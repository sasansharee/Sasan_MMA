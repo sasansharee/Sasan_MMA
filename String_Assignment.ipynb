{
  "nbformat": 4,
  "nbformat_minor": 0,
  "metadata": {
    "colab": {
      "provenance": [],
      "authorship_tag": "ABX9TyMyvL+r7XvD4niTsdXkZTyY",
      "include_colab_link": true
    },
    "kernelspec": {
      "name": "python3",
      "display_name": "Python 3"
    },
    "language_info": {
      "name": "python"
    }
  },
  "cells": [
    {
      "cell_type": "markdown",
      "metadata": {
        "id": "view-in-github",
        "colab_type": "text"
      },
      "source": [
        "<a href=\"https://colab.research.google.com/github/sasansharee/Sasan_MMA/blob/main/String_Assignment.ipynb\" target=\"_parent\"><img src=\"https://colab.research.google.com/assets/colab-badge.svg\" alt=\"Open In Colab\"/></a>"
      ]
    },
    {
      "cell_type": "code",
      "execution_count": null,
      "metadata": {
        "colab": {
          "base_uri": "https://localhost:8080/"
        },
        "id": "xevUArfgsmCR",
        "outputId": "7400651a-d401-40ba-b579-eca5b4057fa1"
      },
      "outputs": [
        {
          "output_type": "stream",
          "name": "stdout",
          "text": [
            "Plase enter yout first name in lower case: sasan\n",
            "Plase enter yout last name in lower case: sharee\n",
            "Your Full Name is: Sasan Sharee\n"
          ]
        }
      ],
      "source": [
        "#1. Ask the user to enter their first name and surname in lower case. Change the case to title case and join them together. Display the finished result.\n",
        "\n",
        "first_name = input('Plase enter yout first name in lower case: ')\n",
        "last_name = input('Plase enter yout last name in lower case: ')\n",
        "\n",
        "first_name_capital = first_name.capitalize()\n",
        "last_name_capital = last_name.capitalize()\n",
        "\n",
        "print(f'Your Full Name is: {first_name_capital} {last_name_capital}')\n",
        "\n"
      ]
    },
    {
      "cell_type": "code",
      "source": [
        "#2. Ask the user to type in the first line of a poem Raven by Edgar Allen Poe and display the length of the string.\n",
        "#Ask for a starting number and an ending number and then display just that section of the text (remember Python starts counting from 0 and not 1).\n",
        "#Here is the poem Raven:\n",
        "\n",
        "poem ='''Deep into that darkness peering,\n",
        "Long I stood there, wondering, fearing,\n",
        "Doubting, dreaming dreams no mortals\n",
        "Ever dared to dream before;\n",
        "But the silence was unbroken,\n",
        "And the stillness gave no token,\n",
        "And the only word there spoken\n",
        "Was the whispered word, \"Lenore!\"\n",
        "This I whispered, and an echo\n",
        "Murmured back the word, \"Lenore!\"\n",
        "Merely this, and nothing more.'''\n",
        "\n",
        "first_line = input('Please type in the first line of a poem Raven by Edgar Allen Poe: ')\n",
        "\n",
        "first_line_length = len(first_line)\n",
        "print(f'The length of the first line of the poem is: {first_line_length}')\n",
        "\n",
        "\n"
      ],
      "metadata": {
        "colab": {
          "base_uri": "https://localhost:8080/"
        },
        "id": "OFpRdfILuxJ0",
        "outputId": "41dc78d9-cc24-498a-fcd6-33eed3be07ea"
      },
      "execution_count": null,
      "outputs": [
        {
          "output_type": "stream",
          "name": "stdout",
          "text": [
            "Please type in the first line of a poem Raven by Edgar Allen Poe: Deep into that darkness peering,\n",
            "The length of the first line of the poem is: 32\n"
          ]
        }
      ]
    },
    {
      "cell_type": "code",
      "source": [
        "#2. Ask the user to type in the first line of a poem Raven by Edgar Allen Poe and display the length of the string.\n",
        "#Ask for a starting number and an ending number and then display just that section of the text (remember Python starts counting from 0 and not 1).\n",
        "#Here is the poem Raven:\n",
        "\n",
        "poem ='''Deep into that darkness peering,\n",
        "Long I stood there, wondering, fearing,\n",
        "Doubting, dreaming dreams no mortals\n",
        "Ever dared to dream before;\n",
        "But the silence was unbroken,\n",
        "And the stillness gave no token,\n",
        "And the only word there spoken\n",
        "Was the whispered word, \"Lenore!\"\n",
        "This I whispered, and an echo\n",
        "Murmured back the word, \"Lenore!\"\n",
        "Merely this, and nothing more.'''\n",
        "\n",
        "first_number = int(input('Please enter the starting number: '))\n",
        "second_number = int(input('Please enter the ending number: '))\n",
        "section = poem[(first_number -1):(second_number)]\n",
        "\n",
        "print(f'Here is the section of them poem you intended: {section}')\n"
      ],
      "metadata": {
        "colab": {
          "base_uri": "https://localhost:8080/"
        },
        "id": "h-EpIh0myjxP",
        "outputId": "b611f35d-26ec-4872-b165-3f58bd0c58de"
      },
      "execution_count": null,
      "outputs": [
        {
          "output_type": "stream",
          "name": "stdout",
          "text": [
            "Please enter the starting number: 16\n",
            "Please enter the ending number: 18\n",
            "Here is the section of them poem you intended: dar\n"
          ]
        }
      ]
    },
    {
      "cell_type": "code",
      "source": [
        "#3.Removes extra characters from the start and end of a string and explain why you need to remove white spaces while exploring text.\n",
        "\n",
        "user_string = input('Please enter your string:')\n",
        "print(user_string)\n",
        "\n",
        "user_string = user_string.strip()\n",
        "print(user_string.strip())"
      ],
      "metadata": {
        "colab": {
          "base_uri": "https://localhost:8080/"
        },
        "id": "a_Up9HKTWLMG",
        "outputId": "87c8d53b-ea02-477e-a19e-2bb381f0ff91"
      },
      "execution_count": 8,
      "outputs": [
        {
          "output_type": "stream",
          "name": "stdout",
          "text": [
            "Please enter your string:      Hello, I am Sasan \n",
            "      Hello, I am Sasan \n",
            "Hello, I am Sasan\n"
          ]
        }
      ]
    },
    {
      "cell_type": "code",
      "source": [],
      "metadata": {
        "id": "OE4XmMeIWLNM"
      },
      "execution_count": null,
      "outputs": []
    },
    {
      "cell_type": "code",
      "source": [],
      "metadata": {
        "id": "GsnD8UN3WLOG"
      },
      "execution_count": null,
      "outputs": []
    },
    {
      "cell_type": "code",
      "source": [],
      "metadata": {
        "id": "NpW7VLpfWL8U"
      },
      "execution_count": null,
      "outputs": []
    },
    {
      "cell_type": "code",
      "source": [],
      "metadata": {
        "id": "kU2XUpUiWMFS"
      },
      "execution_count": null,
      "outputs": []
    }
  ]
}