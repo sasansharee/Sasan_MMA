{
  "nbformat": 4,
  "nbformat_minor": 0,
  "metadata": {
    "colab": {
      "provenance": [],
      "authorship_tag": "ABX9TyNjdrirHS4trl4m9xj8Wc/Z",
      "include_colab_link": true
    },
    "kernelspec": {
      "name": "python3",
      "display_name": "Python 3"
    },
    "language_info": {
      "name": "python"
    }
  },
  "cells": [
    {
      "cell_type": "markdown",
      "metadata": {
        "id": "view-in-github",
        "colab_type": "text"
      },
      "source": [
        "<a href=\"https://colab.research.google.com/github/sasansharee/Sasan_MMA/blob/main/Conditional_Statements_Assignment.ipynb\" target=\"_parent\"><img src=\"https://colab.research.google.com/assets/colab-badge.svg\" alt=\"Open In Colab\"/></a>"
      ]
    },
    {
      "cell_type": "code",
      "execution_count": 6,
      "metadata": {
        "colab": {
          "base_uri": "https://localhost:8080/"
        },
        "id": "Uo3d_AUU0h2c",
        "outputId": "331625dd-37a3-4ce9-e84f-7779ce5c1390"
      },
      "outputs": [
        {
          "output_type": "stream",
          "name": "stdout",
          "text": [
            "Please nteter a number between 10 and 20: 16\n",
            "Thank you\n"
          ]
        }
      ],
      "source": [
        "# 1- Ask the user to enter a number between 10 and 20 (inclusive).\n",
        "# If they enter a number within this range, display the message “Thank you”, otherwise display the message “Incorrect answer”.\n",
        "\n",
        "number = int(input('Please nteter a number between 10 and 20: '))\n",
        "\n",
        "if 10 <= number <= 20:\n",
        "  print('Thank you')\n",
        "else:\n",
        "  print('Incorrect answer')"
      ]
    },
    {
      "cell_type": "code",
      "source": [
        "# 2- In this exercise, you will create a program that reads a letter of the alphabet from the user. According to the answer:\n",
        "# If the user enters a, e, i, o, u, then your program should display a message indicating that the entered letter is a vowel.\n",
        "# If the user enters y, then your program should display a message indicating that y is sometimes a vowel and sometimes a consonant.\n",
        "# Otherwise, your program should display a message indicating that the letter is a consonant.\n",
        "\n",
        "list_1 = ['a', 'e', 'i', 'o', 'u']\n",
        "list_2 = ['y']\n",
        "\n",
        "letter = input('Please enter a letter of the alphabet: ')\n",
        "\n",
        "if letter in list_1:\n",
        "  print('The entered letter is a vowel')\n",
        "elif letter in list_2:\n",
        "  print('y is sometimes a vowel and sometimes a consonant')\n",
        "else:\n",
        "  print('The letter is a consonant')\n",
        "\n",
        ""
      ],
      "metadata": {
        "colab": {
          "base_uri": "https://localhost:8080/"
        },
        "id": "8NtKR7fx1ZEy",
        "outputId": "091714ad-120f-43bd-8e57-c61acdcb5481"
      },
      "execution_count": 18,
      "outputs": [
        {
          "output_type": "stream",
          "name": "stdout",
          "text": [
            "Please enter a letter of the alphabet: e\n",
            "The entered letter is a vowel\n"
          ]
        }
      ]
    },
    {
      "cell_type": "code",
      "source": [],
      "metadata": {
        "id": "znx25Xig1ZP6"
      },
      "execution_count": null,
      "outputs": []
    },
    {
      "cell_type": "code",
      "source": [],
      "metadata": {
        "id": "lcxVF0YW1ZXQ"
      },
      "execution_count": null,
      "outputs": []
    },
    {
      "cell_type": "code",
      "source": [],
      "metadata": {
        "id": "k5nbf-6O1Zdq"
      },
      "execution_count": null,
      "outputs": []
    },
    {
      "cell_type": "code",
      "source": [],
      "metadata": {
        "id": "9-LVsGPT1Zit"
      },
      "execution_count": null,
      "outputs": []
    }
  ]
}