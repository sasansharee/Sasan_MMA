{
  "nbformat": 4,
  "nbformat_minor": 0,
  "metadata": {
    "colab": {
      "provenance": [],
      "authorship_tag": "ABX9TyOTfkvTPRte9jZFi5a/TgQL",
      "include_colab_link": true
    },
    "kernelspec": {
      "name": "python3",
      "display_name": "Python 3"
    },
    "language_info": {
      "name": "python"
    }
  },
  "cells": [
    {
      "cell_type": "markdown",
      "metadata": {
        "id": "view-in-github",
        "colab_type": "text"
      },
      "source": [
        "<a href=\"https://colab.research.google.com/github/sasansharee/Sasan_MMA/blob/main/Function_Assignment.ipynb\" target=\"_parent\"><img src=\"https://colab.research.google.com/assets/colab-badge.svg\" alt=\"Open In Colab\"/></a>"
      ]
    },
    {
      "cell_type": "code",
      "execution_count": null,
      "metadata": {
        "id": "srbl6c1GU1DN",
        "colab": {
          "base_uri": "https://localhost:8080/"
        },
        "outputId": "f3725cfb-f7b2-41ee-a794-611daa32781a"
      },
      "outputs": [
        {
          "name": "stdout",
          "output_type": "stream",
          "text": [
            "Enter a number: 40\n"
          ]
        },
        {
          "output_type": "execute_result",
          "data": {
            "text/plain": [
              "False"
            ]
          },
          "metadata": {},
          "execution_count": 39
        }
      ],
      "source": [
        "# 1. Finding Prime Number\n",
        "# A prime number is an integer greater than one that is only divisible by one and itself. Write a function that determines whether or not its parameter is prime, returning True if it is, and False otherwise.\n",
        "# Write a main program that reads an integer from the user and displays a message indicating whether or not it is prime.\n",
        "\n",
        "def is_prime(num):\n",
        "  if num < 2:\n",
        "    return False\n",
        "  if num == 2:\n",
        "    return True\n",
        "  for i in range(2, num):\n",
        "    if num % i == 0:\n",
        "      return False\n",
        "  return True\n",
        "\n",
        "is_prime(int(input(\"Enter a number: \")))"
      ]
    },
    {
      "cell_type": "code",
      "source": [
        "# 2. Rømer temperature\n",
        "# You're writing an excruciatingly detailed alternate history novel set in a world where Daniel Gabriel Fahrenheit was never born.\n",
        "# Since Fahrenheit never lived the world kept on using the Rømer scale, invented by fellow Dane Ole Rømer to this very day, skipping over the Fahrenheit and Celsius scales entirely.\n",
        "# Your magnum opus contains several thousand references to temperature, but those temperatures are all currently in degrees Celsius. You don't want to convert everything by hand, so you've decided to write a function, celsius_to_romer that takes a temperature in degrees Celsius and returns the equivalent temperature in degrees Rømer.\n",
        "# For example: celsius_to_romer(24) should return 20.1.\n",
        "\n",
        "def celsius_to_romer(temp_c):\n",
        "  temp_r = (temp_c * (21/40)) + 7.5\n",
        "  return temp_r\n",
        "\n",
        "celsius_to_romer(int(input('Please enter temperature:')))\n",
        "\n"
      ],
      "metadata": {
        "colab": {
          "base_uri": "https://localhost:8080/"
        },
        "id": "5bOR4kaI9r7f",
        "outputId": "e6d17404-37c6-4fc3-929f-a8c7eadee298"
      },
      "execution_count": null,
      "outputs": [
        {
          "name": "stdout",
          "output_type": "stream",
          "text": [
            "Please enter temperature:100\n"
          ]
        },
        {
          "output_type": "execute_result",
          "data": {
            "text/plain": [
              "60.0"
            ]
          },
          "metadata": {},
          "execution_count": 47
        }
      ]
    },
    {
      "cell_type": "code",
      "source": [
        "# 3. Pixelart planning\n",
        "# You're laying out a rad pixel art mural to paint on your living room wall in homage to Paul Robertson, your favorite pixel artist.\n",
        "# You want your work to be perfect down to the millimeter.\n",
        "# You haven't decided on the dimensions of your piece, how large you want your pixels to be, or which wall you want to use. You just know that you want to fit an exact number of pixels.\n",
        "# To help decide those things you've decided to write a function, is_divisible that will tell you whether a wall of a certain length can exactly fit an integer number of pixels of a certain length.\n",
        "# Your function should take two arguments: the size of the wall in millimeters and the size of a pixel in millimeters. It should return True if you can fit an exact number of pixels on the wall, otherwise it should return False.\n",
        "# For example is_divisible(4050, 27) should return True, but is_divisible(4066, 27) should return False.\n",
        "# Note: you don't need to use an if statement here. Remember that in Python an expression using the == comparison operator will evaluate to either True or False:\n",
        "\n",
        "\n",
        "def is_divisible(wall_size, pixel_size):\n",
        "  return wall_size % pixel_size == 0\n",
        "\n",
        "is_divisible(int(input('Please enter wall size: ')), int(input('Please enter pixel size: ')))\n",
        "\n",
        "\n",
        "\n",
        "\n",
        "\n",
        "\n",
        "\n",
        "\n",
        "\n",
        "\n",
        "\n"
      ],
      "metadata": {
        "colab": {
          "base_uri": "https://localhost:8080/"
        },
        "id": "MTzqUTZz9sCq",
        "outputId": "7f5530af-4c84-4965-bf8d-33f71c21fabf"
      },
      "execution_count": null,
      "outputs": [
        {
          "name": "stdout",
          "output_type": "stream",
          "text": [
            "Please enter wall size: 4066\n",
            "Please enter pixel size: 27\n"
          ]
        },
        {
          "output_type": "execute_result",
          "data": {
            "text/plain": [
              "False"
            ]
          },
          "metadata": {},
          "execution_count": 49
        }
      ]
    },
    {
      "cell_type": "code",
      "source": [],
      "metadata": {
        "id": "yhjgevIs9sJT"
      },
      "execution_count": null,
      "outputs": []
    },
    {
      "cell_type": "code",
      "source": [],
      "metadata": {
        "id": "IYBrvtVQ9sQJ"
      },
      "execution_count": null,
      "outputs": []
    },
    {
      "cell_type": "code",
      "source": [],
      "metadata": {
        "id": "2xmTnS5o9sXT"
      },
      "execution_count": null,
      "outputs": []
    },
    {
      "cell_type": "code",
      "source": [],
      "metadata": {
        "id": "HwldRJ9h9seT"
      },
      "execution_count": null,
      "outputs": []
    },
    {
      "cell_type": "code",
      "source": [],
      "metadata": {
        "id": "s8GuugnW9syx"
      },
      "execution_count": null,
      "outputs": []
    }
  ]
}