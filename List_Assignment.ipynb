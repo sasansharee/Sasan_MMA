{
  "nbformat": 4,
  "nbformat_minor": 0,
  "metadata": {
    "colab": {
      "provenance": [],
      "authorship_tag": "ABX9TyOCVOCeL5VZ29OgSWLqwMpM",
      "include_colab_link": true
    },
    "kernelspec": {
      "name": "python3",
      "display_name": "Python 3"
    },
    "language_info": {
      "name": "python"
    }
  },
  "cells": [
    {
      "cell_type": "markdown",
      "metadata": {
        "id": "view-in-github",
        "colab_type": "text"
      },
      "source": [
        "<a href=\"https://colab.research.google.com/github/sasansharee/Sasan_MMA/blob/main/List_Assignment.ipynb\" target=\"_parent\"><img src=\"https://colab.research.google.com/assets/colab-badge.svg\" alt=\"Open In Colab\"/></a>"
      ]
    },
    {
      "cell_type": "code",
      "execution_count": 6,
      "metadata": {
        "colab": {
          "base_uri": "https://localhost:8080/"
        },
        "id": "bSlTM5nQgxWK",
        "outputId": "5dd2af89-0e74-4653-a29c-85535b49e405"
      },
      "outputs": [
        {
          "output_type": "stream",
          "name": "stdout",
          "text": [
            "[2, 12, 34, 37, 45, 54, 56, 66, 67, 76, 98]\n",
            "14\n",
            "174\n"
          ]
        }
      ],
      "source": [
        "# 1- Write a code to compute the sum of the two lowest numbers and the two highest numbers in the following list.\n",
        "\n",
        "my_list = [34, 56, 76, 45, 2, 12, 67, 98, 37, 54, 66]\n",
        "my_list.sort()\n",
        "print(my_list)\n",
        "\n",
        "lowest_two = my_list[0] + my_list[1]\n",
        "highest_two = my_list[-1] + my_list[-2]\n",
        "\n",
        "print(lowest_two)\n",
        "print(highest_two)"
      ]
    },
    {
      "cell_type": "code",
      "source": [
        "# 2- The following two lists contain student names and scores. Write a code that gets the name from the user and prints the score of that student.\n",
        "\n",
        "names = [\"David\", \"Michael\", \"John\", \"James\", \"Greg\", \"Mark\", \"William\", \"Richard\", \"Thomas\", \"Steven\",\n",
        "\n",
        "   \"Mary\", \"Susan\", \"Maria\", \"Karen\", \"Lisa\", \"Linda\", \"Donna\", \"Patricia\", \"Debra\", \"Eric\"]\n",
        "\n",
        "scores = [99, 87, 78, 86, 68, 94, 76, 97, 56, 98, 76, 87, 79, 90, 73, 93, 82, 69, 97, 98]\n",
        "\n",
        "name_in = input('Please enter your name: ')\n",
        "name_index = names.index(name_in)\n",
        "print(f'Your grade is: {scores[name_index]}')"
      ],
      "metadata": {
        "colab": {
          "base_uri": "https://localhost:8080/"
        },
        "id": "GSkvRx-6lL8k",
        "outputId": "859b6eeb-86b4-45b9-f383-a96fac1442c9"
      },
      "execution_count": 9,
      "outputs": [
        {
          "output_type": "stream",
          "name": "stdout",
          "text": [
            "Please enter your name: Michael\n",
            "Your grade is: 87\n"
          ]
        }
      ]
    },
    {
      "cell_type": "code",
      "source": [
        "# 3- By using the two lists above, what is the maximum score and how many students got that score?\n",
        "\n",
        "names = [\"David\", \"Michael\", \"John\", \"James\", \"Greg\", \"Mark\", \"William\", \"Richard\", \"Thomas\", \"Steven\",\n",
        "\n",
        "   \"Mary\", \"Susan\", \"Maria\", \"Karen\", \"Lisa\", \"Linda\", \"Donna\", \"Patricia\", \"Debra\", \"Eric\"]\n",
        "\n",
        "scores = [99, 87, 78, 86, 68, 94, 76, 97, 56, 98, 76, 87, 79, 90, 73, 93, 82, 69, 97, 98]\n",
        "\n",
        "\n",
        "scores.sort()\n",
        "print(scores)\n",
        "\n",
        "max_score = scores[-1]\n",
        "print(f'The maximum score was: {max_score}')\n",
        "\n",
        "max_score_num = scores.count(max_score)\n",
        "\n",
        "print(f'The number of student(s) who got maximum score was: {max_score_num}')\n",
        "\n",
        "\n",
        "\n",
        "\n",
        "\n"
      ],
      "metadata": {
        "colab": {
          "base_uri": "https://localhost:8080/"
        },
        "id": "ESSCS-i-lMIB",
        "outputId": "3759c41c-1413-45a3-af2d-cc97511db563"
      },
      "execution_count": 14,
      "outputs": [
        {
          "output_type": "stream",
          "name": "stdout",
          "text": [
            "[56, 68, 69, 73, 76, 76, 78, 79, 82, 86, 87, 87, 90, 93, 94, 97, 97, 98, 98, 99]\n",
            "The maximum score was: 99\n",
            "The number of student(s) who got maximum score was: 1\n"
          ]
        }
      ]
    },
    {
      "cell_type": "code",
      "source": [],
      "metadata": {
        "id": "xCOeSATflMQo"
      },
      "execution_count": null,
      "outputs": []
    },
    {
      "cell_type": "code",
      "source": [],
      "metadata": {
        "id": "54YhRNsrlMYO"
      },
      "execution_count": null,
      "outputs": []
    },
    {
      "cell_type": "code",
      "source": [],
      "metadata": {
        "id": "fxwPPD3klMg-"
      },
      "execution_count": null,
      "outputs": []
    }
  ]
}