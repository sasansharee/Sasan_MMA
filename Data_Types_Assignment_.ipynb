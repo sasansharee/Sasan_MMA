{
  "nbformat": 4,
  "nbformat_minor": 0,
  "metadata": {
    "colab": {
      "provenance": [],
      "authorship_tag": "ABX9TyO5jk19xR+mu1HVkR5+rtn3",
      "include_colab_link": true
    },
    "kernelspec": {
      "name": "python3",
      "display_name": "Python 3"
    },
    "language_info": {
      "name": "python"
    }
  },
  "cells": [
    {
      "cell_type": "markdown",
      "metadata": {
        "id": "view-in-github",
        "colab_type": "text"
      },
      "source": [
        "<a href=\"https://colab.research.google.com/github/sasansharee/Sasan_MMA/blob/main/Data_Types_Assignment_.ipynb\" target=\"_parent\"><img src=\"https://colab.research.google.com/assets/colab-badge.svg\" alt=\"Open In Colab\"/></a>"
      ]
    },
    {
      "cell_type": "code",
      "execution_count": 21,
      "metadata": {
        "colab": {
          "base_uri": "https://localhost:8080/"
        },
        "id": "sqtbuzMydKIq",
        "outputId": "5e7aa6b2-0f19-4549-ae83-f900c567f986"
      },
      "outputs": [
        {
          "output_type": "stream",
          "name": "stdout",
          "text": [
            "Your $1000 after 1 week will be: 2210.68\n"
          ]
        }
      ],
      "source": [
        "#1- Suppose you invested in Bitcoin at the end of 2020 when Bitcoin gained a lot of value.\n",
        "# What would be your money at the end of a week if you had invested $1000 with an average daily increase of 12% ?\n",
        "# You can solve the problem using Python.\n",
        "\n",
        "#Help\n",
        "#Create a variable capital ($1000)\n",
        "#Create a variable for daily growth (12%)\n",
        "#Create a variable for period (7)\n",
        "#Calculate the final growth rate\n",
        "#Calculate result\n",
        "#Print result\n",
        "\n",
        "capital = 1000\n",
        "daily_growth = 0.12\n",
        "duration = 7\n",
        "compound_interest = (1 + daily_growth) ** duration\n",
        "result = round((capital * compound_interest), 2)\n",
        "print(f'Your $1000 after 1 week will be: {result}')\n"
      ]
    },
    {
      "cell_type": "code",
      "source": [
        "#2- Print the text in quotes with Python. However, you must get the numbers from variables using .format() notation. Because the text is long, you might consider writing in two lines:\n",
        "\n",
        "sentence = '''When we buy bitcoin with 1000 USD at the beginning of the week,\n",
        "we would earn 1210.68 USD at the end of the week, with an average gain of 12\\%.'''\n",
        "\n",
        "number_1 = 1000\n",
        "number_2 = 1210.68\n",
        "number_3 = 12\n",
        "\n",
        "print('{} {} {}' .format(number_1, number_2, number_3))\n",
        "\n"
      ],
      "metadata": {
        "colab": {
          "base_uri": "https://localhost:8080/"
        },
        "id": "KzppKRA4icEs",
        "outputId": "e2b7a7be-3ff2-4c1c-b818-723b1590f07e"
      },
      "execution_count": 3,
      "outputs": [
        {
          "output_type": "stream",
          "name": "stdout",
          "text": [
            "1000 1210.68 12\n"
          ]
        }
      ]
    },
    {
      "cell_type": "code",
      "source": [
        "#3- Get the temperature in Fahrenheit from user and write a code to convert it to Celcius. For conversion, you can use this formula: C = (5/9) * (F - 32)\n",
        "\n",
        "Temp_F = int(input('Please enter temperature in F:'))\n",
        "Temp_C = (5/9) * (Temp_F - 32)\n",
        "Temp_C = round(Temp_C, 1)\n",
        "print('Temperature in Celsius is {} C' .format(Temp_C))"
      ],
      "metadata": {
        "colab": {
          "base_uri": "https://localhost:8080/"
        },
        "id": "wwWY7NZZicQW",
        "outputId": "ee3cb5f8-62a3-4ab4-98ac-03dc7eedb070"
      },
      "execution_count": 10,
      "outputs": [
        {
          "output_type": "stream",
          "name": "stdout",
          "text": [
            "Please enter temperature in F:73\n",
            "Temperature in Celsius is 22.8 C\n"
          ]
        }
      ]
    },
    {
      "cell_type": "code",
      "source": [
        "#4- Get a three digit number the from user and calculate the sum of the digits in the integer.\n",
        "\n",
        "number = input('Please enter a three digit number:')\n",
        "\n",
        "a = number[0]\n",
        "b = number[1]\n",
        "c = number[2]\n",
        "\n",
        "print(f'The sume of the digits are: {int(a) + int(b) + int(c)}')\n"
      ],
      "metadata": {
        "colab": {
          "base_uri": "https://localhost:8080/"
        },
        "id": "ssq1gCkDicY9",
        "outputId": "ac214b8b-324c-4e96-ae3e-92139e0d643c"
      },
      "execution_count": 15,
      "outputs": [
        {
          "output_type": "stream",
          "name": "stdout",
          "text": [
            "Please enter a three digit number:240\n",
            "The sume of the digits are: 6\n"
          ]
        }
      ]
    },
    {
      "cell_type": "code",
      "source": [
        "#5- Write some code to calculate the hypotenuse of a right angled triangle. Get the side lengths from the user.\n",
        "\n",
        "first_side = int(input('Please enter the value for the first side:'))\n",
        "second_side = int(input('Please enter the value for the second side:'))\n",
        "hypot = (first_side ** 2 + second_side ** 2) ** 0.5\n",
        "print(f'The hypotenuse is equal to: {hypot}')\n",
        "\n",
        "\n"
      ],
      "metadata": {
        "colab": {
          "base_uri": "https://localhost:8080/"
        },
        "id": "kLlVDii-icfR",
        "outputId": "37d9c576-e21e-4280-dbc2-8f5e84f9349f"
      },
      "execution_count": 18,
      "outputs": [
        {
          "output_type": "stream",
          "name": "stdout",
          "text": [
            "Please enter the value for the first side:6\n",
            "Please enter the value for the second side:8\n",
            "The hypotenuse is equal to: 10.0\n"
          ]
        }
      ]
    },
    {
      "cell_type": "code",
      "source": [],
      "metadata": {
        "id": "s2CCJcLIiciw"
      },
      "execution_count": null,
      "outputs": []
    },
    {
      "cell_type": "code",
      "source": [],
      "metadata": {
        "id": "PbhjJF6Uicmp"
      },
      "execution_count": null,
      "outputs": []
    },
    {
      "cell_type": "code",
      "source": [],
      "metadata": {
        "id": "bwczrzL8icqW"
      },
      "execution_count": null,
      "outputs": []
    },
    {
      "cell_type": "code",
      "source": [],
      "metadata": {
        "id": "P__gO6Yqictw"
      },
      "execution_count": null,
      "outputs": []
    },
    {
      "cell_type": "code",
      "source": [],
      "metadata": {
        "id": "es9fxpx2icxG"
      },
      "execution_count": null,
      "outputs": []
    },
    {
      "cell_type": "code",
      "source": [],
      "metadata": {
        "id": "RbV8cYXMic2B"
      },
      "execution_count": null,
      "outputs": []
    },
    {
      "cell_type": "code",
      "source": [],
      "metadata": {
        "id": "-MQpqNLMic30"
      },
      "execution_count": null,
      "outputs": []
    }
  ]
}