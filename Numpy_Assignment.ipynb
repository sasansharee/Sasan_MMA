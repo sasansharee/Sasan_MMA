{
  "nbformat": 4,
  "nbformat_minor": 0,
  "metadata": {
    "colab": {
      "provenance": [],
      "authorship_tag": "ABX9TyNGSSJd+WcYUjpHRmZ+hPSR",
      "include_colab_link": true
    },
    "kernelspec": {
      "name": "python3",
      "display_name": "Python 3"
    },
    "language_info": {
      "name": "python"
    }
  },
  "cells": [
    {
      "cell_type": "markdown",
      "metadata": {
        "id": "view-in-github",
        "colab_type": "text"
      },
      "source": [
        "<a href=\"https://colab.research.google.com/github/sasansharee/Sasan_MMA/blob/main/Numpy_Assignment.ipynb\" target=\"_parent\"><img src=\"https://colab.research.google.com/assets/colab-badge.svg\" alt=\"Open In Colab\"/></a>"
      ]
    },
    {
      "cell_type": "code",
      "execution_count": 103,
      "metadata": {
        "id": "-AuB2XQOOzig"
      },
      "outputs": [],
      "source": [
        "import numpy as np\n",
        "import pandas as pd"
      ]
    },
    {
      "cell_type": "code",
      "source": [
        "# 1- Create three lists representing house features, each list containing ten values.\n",
        "# The first one for the house's size in square meters, the second one for rooms and last for price.\n",
        "#Then, create an array combining these lists.\n",
        "\n",
        "house_size = [i for i in range(60, 160, 10)]\n",
        "room_num = list(np.random.randint(1, 5, size =10))\n",
        "house_price = list(np.random.randint(100000, 350000, size = 10))\n",
        "combined_array = np.array([house_size, room_num, house_price])\n",
        "combined_array"
      ],
      "metadata": {
        "colab": {
          "base_uri": "https://localhost:8080/"
        },
        "id": "4HXSsRAc4dRy",
        "outputId": "cf5f8e58-2373-481a-e2de-71c18664542c"
      },
      "execution_count": 104,
      "outputs": [
        {
          "output_type": "execute_result",
          "data": {
            "text/plain": [
              "array([[    60,     70,     80,     90,    100,    110,    120,    130,\n",
              "           140,    150],\n",
              "       [     4,      2,      1,      2,      1,      4,      1,      1,\n",
              "             2,      1],\n",
              "       [153892, 237849, 287886, 172356, 213405, 116805, 162570, 100012,\n",
              "        337788, 137571]])"
            ]
          },
          "metadata": {},
          "execution_count": 104
        }
      ]
    },
    {
      "cell_type": "code",
      "source": [
        "# 2- Transpose the array you have created, so that every line can represent features of one house.\n",
        "combined_array.transpose()"
      ],
      "metadata": {
        "colab": {
          "base_uri": "https://localhost:8080/"
        },
        "id": "ishMmLKJ54Oe",
        "outputId": "b04bd64b-3cf0-424e-d497-29eab2699955"
      },
      "execution_count": 105,
      "outputs": [
        {
          "output_type": "execute_result",
          "data": {
            "text/plain": [
              "array([[    60,      4, 153892],\n",
              "       [    70,      2, 237849],\n",
              "       [    80,      1, 287886],\n",
              "       [    90,      2, 172356],\n",
              "       [   100,      1, 213405],\n",
              "       [   110,      4, 116805],\n",
              "       [   120,      1, 162570],\n",
              "       [   130,      1, 100012],\n",
              "       [   140,      2, 337788],\n",
              "       [   150,      1, 137571]])"
            ]
          },
          "metadata": {},
          "execution_count": 105
        }
      ]
    },
    {
      "cell_type": "code",
      "source": [
        "# 3- Display the shape of the array and explain what it means.\n",
        "combined_array.shape # It is a 2 dimesnioan matrix with 3 rows and 10 columns"
      ],
      "metadata": {
        "colab": {
          "base_uri": "https://localhost:8080/"
        },
        "id": "gIRwV6rq5oXD",
        "outputId": "b8695af3-a104-4d62-c050-72eb85543165"
      },
      "execution_count": 106,
      "outputs": [
        {
          "output_type": "execute_result",
          "data": {
            "text/plain": [
              "(3, 10)"
            ]
          },
          "metadata": {},
          "execution_count": 106
        }
      ]
    },
    {
      "cell_type": "code",
      "source": [
        "# 4- Load the Earthquakes dataset. Export the dataset to an array as you covered in the previous lesson.\n",
        "Eq = pd.read_csv('/content/earthquakes1970-2014.csv')\n",
        "Eq_arr =Eq.to_numpy()\n",
        "Eq_arr"
      ],
      "metadata": {
        "colab": {
          "base_uri": "https://localhost:8080/"
        },
        "id": "vHhoj-3D5oeO",
        "outputId": "d1ca4ff9-34b1-47db-e87d-411b974eef28"
      },
      "execution_count": 107,
      "outputs": [
        {
          "output_type": "execute_result",
          "data": {
            "text/plain": [
              "array([['1970/01/04 17:00:40.20', 24.1389999999999, 102.503, ..., 0.0,\n",
              "        'NEI', 1970010440.0],\n",
              "       ['1970/01/06 05:35:51.80', -9.628, 151.458, ..., 0.0, 'NEI',\n",
              "        1970010640.0],\n",
              "       ['1970/01/08 17:12:39.10', -34.741, 178.568, ..., 0.0, 'NEI',\n",
              "        1970010840.0],\n",
              "       ...,\n",
              "       ['2013/12/17 23:38:08.10', 20.7635, 146.759899999999, ..., 0.74,\n",
              "        'us', 2013121720.0],\n",
              "       ['2014/01/01 16:03:28.89', -13.8779, 167.2434, ..., 0.67, 'us',\n",
              "        2014010120.0],\n",
              "       ['2014/01/13 04:01:04.69', 19.0014, -66.8478, ..., 1.42, 'us',\n",
              "        2014011320.0]], dtype=object)"
            ]
          },
          "metadata": {},
          "execution_count": 107
        }
      ]
    },
    {
      "cell_type": "code",
      "source": [
        "# 5- Slice first 20 rows and column numbers 3, 5, 6, 7, 12. Then, assign the array you sliced to a variable.\n",
        "Slice_1 = Eq_arr[0:20, [2, 4, 5, 6, 11]]"
      ],
      "metadata": {
        "id": "OaxMH5Xk5opJ"
      },
      "execution_count": 108,
      "outputs": []
    },
    {
      "cell_type": "code",
      "source": [
        "# 6- Display the row numbers where last values are equal to 4.5 or higher.\n",
        "row_index = [i for i in range(len(Slice_1)) if Slice_1[i, -1] >= 4.5]\n",
        "row_index"
      ],
      "metadata": {
        "colab": {
          "base_uri": "https://localhost:8080/"
        },
        "id": "bu608cqaOnza",
        "outputId": "7abe7914-ffe5-42a7-ee5b-7a3d57770aef"
      },
      "execution_count": 109,
      "outputs": [
        {
          "output_type": "execute_result",
          "data": {
            "text/plain": [
              "[0, 1, 2, 3, 5, 6, 7, 8, 9, 10, 11, 12, 15, 16, 17, 19]"
            ]
          },
          "metadata": {},
          "execution_count": 109
        }
      ]
    },
    {
      "cell_type": "code",
      "source": [
        "# 7- Assign 1 to first row.\n",
        "Slice_2 = Slice_1[row_index, :]\n",
        "Slice_2[0] = 1\n",
        "Slice_2"
      ],
      "metadata": {
        "colab": {
          "base_uri": "https://localhost:8080/"
        },
        "id": "ZMckQL5KOn6o",
        "outputId": "1cd16a7a-ade6-44f3-f319-1e6713e3db10"
      },
      "execution_count": 110,
      "outputs": [
        {
          "output_type": "execute_result",
          "data": {
            "text/plain": [
              "array([[1, 1, 1, 1, 1],\n",
              "       [151.458, 6.2, 'Ms', 85.0, 1970010640.0],\n",
              "       [178.568, 6.1, 'Mb', 59.0, 1970010840.0],\n",
              "       [126.736999999999, 6.1, 'Mb', 91.0, 1970011040.0],\n",
              "       [-177.348999999999, 6.5, 'Mb', 175.0, 1970012040.0],\n",
              "       [142.966, 6.4, 'Ms', 199.0, 1970012040.0],\n",
              "       [-104.298, 6.6, 'Ms', 140.0, 1970012140.0],\n",
              "       [166.37, 6.4, 'Ms', 91.0, 1970012640.0],\n",
              "       [-99.48399999999991, 6.5, 'Ms', 100.0, 1970020440.0],\n",
              "       [122.117, 6.6, 'Ms', 94.0, 1970020540.0],\n",
              "       [100.775, 6.1, 'Ms', 57.0, 1970020640.0],\n",
              "       [103.031, 6.0, 'Ms', 94.0, 1970022440.0],\n",
              "       [143.706999999999, 6.2, 'Ms', 82.0, 1970030440.0],\n",
              "       [168.603, 6.5, 'Ms', 61.0, 1970030940.0],\n",
              "       [148.87, 6.0, 'Mb', 65.0, 1970031040.0],\n",
              "       [-69.49899999999991, 6.0, 'Mb', 118.0, 1970031540.0]], dtype=object)"
            ]
          },
          "metadata": {},
          "execution_count": 110
        }
      ]
    },
    {
      "cell_type": "code",
      "source": [
        "# 8- Save the final state of the array to disk. You are going to use this in the next assignment.\n",
        "np.save('Slice_2.npy', Slice_2)"
      ],
      "metadata": {
        "id": "b17fiu1sOoAc"
      },
      "execution_count": 111,
      "outputs": []
    },
    {
      "cell_type": "code",
      "source": [
        "# 9- Load the array you saved in the previous lesson from the disk.\n",
        "loaded_array = np.load('Slice_2.npy', allow_pickle=True)\n",
        "display(loaded_array)"
      ],
      "metadata": {
        "colab": {
          "base_uri": "https://localhost:8080/",
          "height": 295
        },
        "id": "nfdZRA-AOoGR",
        "outputId": "f6e01a09-8ac2-47ec-8d03-d06a69bcaec5"
      },
      "execution_count": 112,
      "outputs": [
        {
          "output_type": "display_data",
          "data": {
            "text/plain": [
              "array([[1, 1, 1, 1, 1],\n",
              "       [151.458, 6.2, 'Ms', 85.0, 1970010640.0],\n",
              "       [178.568, 6.1, 'Mb', 59.0, 1970010840.0],\n",
              "       [126.736999999999, 6.1, 'Mb', 91.0, 1970011040.0],\n",
              "       [-177.348999999999, 6.5, 'Mb', 175.0, 1970012040.0],\n",
              "       [142.966, 6.4, 'Ms', 199.0, 1970012040.0],\n",
              "       [-104.298, 6.6, 'Ms', 140.0, 1970012140.0],\n",
              "       [166.37, 6.4, 'Ms', 91.0, 1970012640.0],\n",
              "       [-99.48399999999991, 6.5, 'Ms', 100.0, 1970020440.0],\n",
              "       [122.117, 6.6, 'Ms', 94.0, 1970020540.0],\n",
              "       [100.775, 6.1, 'Ms', 57.0, 1970020640.0],\n",
              "       [103.031, 6.0, 'Ms', 94.0, 1970022440.0],\n",
              "       [143.706999999999, 6.2, 'Ms', 82.0, 1970030440.0],\n",
              "       [168.603, 6.5, 'Ms', 61.0, 1970030940.0],\n",
              "       [148.87, 6.0, 'Mb', 65.0, 1970031040.0],\n",
              "       [-69.49899999999991, 6.0, 'Mb', 118.0, 1970031540.0]], dtype=object)"
            ]
          },
          "metadata": {}
        }
      ]
    },
    {
      "cell_type": "code",
      "source": [
        "# 10- Display the mean and the standard deviation for each column.\n",
        "def is_numerical(col):\n",
        "  try:\n",
        "    col.astype(float)\n",
        "    return True\n",
        "  except ValueError:\n",
        "    return False\n",
        "\n",
        "numerical_columns = [i for i in range(loaded_array.shape[1]) if is_numerical(loaded_array[:,i])]\n",
        "print(numerical_columns)\n",
        "\n",
        "column_mean = np.mean(loaded_array[:, numerical_columns], axis = 0)\n",
        "print(column_mean)\n",
        "\n",
        "column_std = (np.var(loaded_array[:, numerical_columns], axis = 0)) ** 0.5\n",
        "print(column_std)\n",
        "\n"
      ],
      "metadata": {
        "colab": {
          "base_uri": "https://localhost:8080/"
        },
        "id": "unJ8vzI8OoWy",
        "outputId": "c8bdf32a-41e9-462d-ccb3-4882c8a51f11"
      },
      "execution_count": 138,
      "outputs": [
        {
          "output_type": "stream",
          "name": "stdout",
          "text": [
            "[0, 1, 3, 4]\n",
            "[68.97324999999995 5.95 94.5 1846893087.5625]\n",
            "[113.70824718852829 1.295665851984994 45.91159984143441 476865744.4962063]\n"
          ]
        }
      ]
    },
    {
      "cell_type": "code",
      "source": [
        "def is_numerical(column):\n",
        "  try:\n",
        "    column.astype(float)\n",
        "    return True\n",
        "  except ValueError:\n",
        "    return False\n",
        "\n",
        "numerical_columns = [i for i in range(loaded_array.shape[1]) if is_numerical(loaded_array[:, i])]\n",
        "\n",
        "column_mean = []\n",
        "for i in numerical_columns:\n",
        "  column_mean.append(loaded_array[:, i].mean())\n",
        "  print(f'The mean of column {i} is {column_mean[-1]} ')\n",
        "\n",
        "column_std = []\n",
        "for i in numerical_columns:\n",
        "  column_std.append(loaded_array[:, i].std())\n",
        "  print(f'The std of column {i} is {column_std[-1]} ')\n"
      ],
      "metadata": {
        "colab": {
          "base_uri": "https://localhost:8080/"
        },
        "id": "IUCuZngvOobJ",
        "outputId": "348ad183-c48e-422b-f620-80a06df0eaae"
      },
      "execution_count": 134,
      "outputs": [
        {
          "output_type": "stream",
          "name": "stdout",
          "text": [
            "The mean of column 0 is 68.97324999999995 \n",
            "The mean of column 1 is 5.95 \n",
            "The mean of column 3 is 94.5 \n",
            "The mean of column 4 is 1846893087.5625 \n",
            "The std of column 0 is 113.70824718852829 \n",
            "The std of column 1 is 1.295665851984994 \n",
            "The std of column 3 is 45.91159984143441 \n",
            "The std of column 4 is 476865744.4962063 \n"
          ]
        }
      ]
    },
    {
      "cell_type": "code",
      "source": [
        "# 11- Subtract 1, 25, 25, 10, 4 from columns in order. (Remember it can be dobe in one line of code.)\n",
        "loaded_array[:, numerical_columns] - [1, 25, 10, 4]"
      ],
      "metadata": {
        "colab": {
          "base_uri": "https://localhost:8080/"
        },
        "id": "lqXlUovWkZQm",
        "outputId": "7e120737-b755-43fc-9101-cb4b8f9185b8"
      },
      "execution_count": 148,
      "outputs": [
        {
          "output_type": "execute_result",
          "data": {
            "text/plain": [
              "array([[0, -24, -9, -3],\n",
              "       [150.458, -18.8, 75.0, 1970010636.0],\n",
              "       [177.568, -18.9, 49.0, 1970010836.0],\n",
              "       [125.736999999999, -18.9, 81.0, 1970011036.0],\n",
              "       [-178.348999999999, -18.5, 165.0, 1970012036.0],\n",
              "       [141.966, -18.6, 189.0, 1970012036.0],\n",
              "       [-105.298, -18.4, 130.0, 1970012136.0],\n",
              "       [165.37, -18.6, 81.0, 1970012636.0],\n",
              "       [-100.48399999999991, -18.5, 90.0, 1970020436.0],\n",
              "       [121.117, -18.4, 84.0, 1970020536.0],\n",
              "       [99.775, -18.9, 47.0, 1970020636.0],\n",
              "       [102.031, -19.0, 84.0, 1970022436.0],\n",
              "       [142.706999999999, -18.8, 72.0, 1970030436.0],\n",
              "       [167.603, -18.5, 51.0, 1970030936.0],\n",
              "       [147.87, -19.0, 55.0, 1970031036.0],\n",
              "       [-70.49899999999991, -19.0, 108.0, 1970031536.0]], dtype=object)"
            ]
          },
          "metadata": {},
          "execution_count": 148
        }
      ]
    },
    {
      "cell_type": "code",
      "source": [
        "# 12- Multiply each element by 2. (Remember it can be done in one line of code.)\n",
        "loaded_array * 2"
      ],
      "metadata": {
        "colab": {
          "base_uri": "https://localhost:8080/"
        },
        "id": "dJwfHTcpkZYj",
        "outputId": "ff491422-2aed-4449-ee32-d8e5b99541da"
      },
      "execution_count": 150,
      "outputs": [
        {
          "output_type": "execute_result",
          "data": {
            "text/plain": [
              "array([[2, 2, 2, 2, 2],\n",
              "       [302.916, 12.4, 'MsMs', 170.0, 3940021280.0],\n",
              "       [357.136, 12.2, 'MbMb', 118.0, 3940021680.0],\n",
              "       [253.473999999998, 12.2, 'MbMb', 182.0, 3940022080.0],\n",
              "       [-354.697999999998, 13.0, 'MbMb', 350.0, 3940024080.0],\n",
              "       [285.932, 12.8, 'MsMs', 398.0, 3940024080.0],\n",
              "       [-208.596, 13.2, 'MsMs', 280.0, 3940024280.0],\n",
              "       [332.74, 12.8, 'MsMs', 182.0, 3940025280.0],\n",
              "       [-198.96799999999982, 13.0, 'MsMs', 200.0, 3940040880.0],\n",
              "       [244.234, 13.2, 'MsMs', 188.0, 3940041080.0],\n",
              "       [201.55, 12.2, 'MsMs', 114.0, 3940041280.0],\n",
              "       [206.062, 12.0, 'MsMs', 188.0, 3940044880.0],\n",
              "       [287.413999999998, 12.4, 'MsMs', 164.0, 3940060880.0],\n",
              "       [337.206, 13.0, 'MsMs', 122.0, 3940061880.0],\n",
              "       [297.74, 12.0, 'MbMb', 130.0, 3940062080.0],\n",
              "       [-138.99799999999982, 12.0, 'MbMb', 236.0, 3940063080.0]],\n",
              "      dtype=object)"
            ]
          },
          "metadata": {},
          "execution_count": 150
        }
      ]
    },
    {
      "cell_type": "code",
      "source": [],
      "metadata": {
        "id": "s3zOKp6OkZfR"
      },
      "execution_count": null,
      "outputs": []
    },
    {
      "cell_type": "code",
      "source": [],
      "metadata": {
        "id": "2sLgTFvckZlZ"
      },
      "execution_count": null,
      "outputs": []
    },
    {
      "cell_type": "code",
      "source": [],
      "metadata": {
        "id": "32usx6EbkZra"
      },
      "execution_count": null,
      "outputs": []
    },
    {
      "cell_type": "code",
      "source": [],
      "metadata": {
        "id": "ZsjWoOL_kZwF"
      },
      "execution_count": null,
      "outputs": []
    }
  ]
}