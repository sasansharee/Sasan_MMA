{
  "nbformat": 4,
  "nbformat_minor": 0,
  "metadata": {
    "colab": {
      "provenance": [],
      "authorship_tag": "ABX9TyO+qJMMnf/WtTs0qZQDFuDq",
      "include_colab_link": true
    },
    "kernelspec": {
      "name": "python3",
      "display_name": "Python 3"
    },
    "language_info": {
      "name": "python"
    }
  },
  "cells": [
    {
      "cell_type": "markdown",
      "metadata": {
        "id": "view-in-github",
        "colab_type": "text"
      },
      "source": [
        "<a href=\"https://colab.research.google.com/github/sasansharee/Sasan_MMA/blob/main/For_Loops_Assignment.ipynb\" target=\"_parent\"><img src=\"https://colab.research.google.com/assets/colab-badge.svg\" alt=\"Open In Colab\"/></a>"
      ]
    },
    {
      "cell_type": "code",
      "execution_count": 11,
      "metadata": {
        "colab": {
          "base_uri": "https://localhost:8080/"
        },
        "id": "roe4c8Hm20my",
        "outputId": "e5c3f035-4203-48e7-9794-085719b403fd"
      },
      "outputs": [
        {
          "output_type": "stream",
          "name": "stdout",
          "text": [
            "Username amazon is available\n",
            "Username alexa is available\n",
            "Username iphone is already taken.\n",
            "Username lg is available\n",
            "Username mercedes is available\n",
            "Username ford is already taken.\n",
            "Username hyundai is available\n",
            "Username toyota is available\n"
          ]
        }
      ],
      "source": [
        "# 1. Do the following to create a program that simulates how websites ensure that everyone has a unique username.\n",
        "# Make a list of five or more usernames called current_users.\n",
        "# Make another list of five usernames called new_users. Make sure one or two of the new usernames are also in the current_users list.\n",
        "# Loop through the new_users list to see if each new username has already been used. If it has, print a message that the person will need to enter a new username. If a username has not been used, print a message saying that the username is available.\n",
        "# Make sure your comparison is case insensitive. If 'John' has been used, 'JOHN' should not be accepted.\n",
        "\n",
        "current_users = ['JohnSmith', 'BlackBeRRy', 'IPHone', 'SAMSUNG', 'BMW', 'Ford']\n",
        "new_users = ['Amazon', 'Alexa', 'IPHone', 'LG', 'Mercedes', 'Ford', 'Hyundai', 'Toyota']\n",
        "\n",
        "current_users_lower = [user.lower() for user in current_users]\n",
        "new_users_lower = [user.lower() for user in new_users]\n",
        "\n",
        "for user in new_users_lower:\n",
        "  if user in current_users_lower:\n",
        "    print(f'Username {user} is already taken.')\n",
        "  else:\n",
        "    print(f'Username {user} is available')\n",
        ""
      ]
    },
    {
      "cell_type": "code",
      "source": [
        "# 2. Color probability\n",
        "# You're playing a game with a friend involving a bag of marbles. In the bag are ten marbles:\n",
        "# 1 smooth red marble\n",
        "# 4 bumpy red marbles\n",
        "# 2 bumpy yellow marbles\n",
        "# 1 smooth yellow marble\n",
        "# 1 bumpy green marble\n",
        "# 1 smooth green marble\n",
        "# You can see that the probability of picking a smooth red marble from the bag is 1 / 10 or 0.10 and the probability of picking a bumpy yellow marble is 2 / 10 or 0.20.\n",
        "# The game works like this: your friend puts her hand in the bag, chooses a marble (without looking at it) and tells you whether it's bumpy or smooth. Then you have to guess which color it is before she pulls it out and reveals whether you're correct or not.\n",
        "# You know that the information about whether the marble is bumpy or smooth changes the probability of what color it is, and you want some help with your guesses.\n",
        "# Write a function color_probability that takes two arguments: a color ('red', 'yellow', or 'green') and a texture ('bumpy' or 'smooth') and returns the probability of drawing that combination as a decimal fraction accurate to two places.\n",
        "# The probability should be a string and should discard any digits after the 100ths place. For example, 2 / 3 or 0.6666666666666666 would become the string '0.66'. Note this is different from rounding.\n",
        "# As a complete example, color_probability('red', 'bumpy') should return the string '0.57'.\n",
        "\n",
        "def color_prob(color, texture):\n",
        "  red_bumpy_prob = 0.4\n",
        "  red_smooth_prob = 0.1\n",
        "  yellow_bumpy_prob = 0.2\n",
        "  yellow_smooth_prob = 0.1\n",
        "  green_bumpy_prob = 0.1\n",
        "  green_smooth_prob = 0.1\n",
        "  bumpy_prob = 0.7\n",
        "  smooth_prob = 0.3\n",
        "\n",
        "  if color == 'red' and texture == 'bumpy':\n",
        "    return f'{(red_bumpy_prob / bumpy_prob)}'[:4]\n",
        "  elif color == 'red' and texture == 'smooth':\n",
        "    return f'{(red_smooth_prob / smooth_prob)}'[:4]\n",
        "  elif color == 'yellow' and texture == 'bumpy':\n",
        "    return f'{(yellow_bumpy_prob / bumpy_prob)}'[:4]\n",
        "  elif color == 'yellow' and texture == 'smooth':\n",
        "    return f'{(yellow_smooth_prob / smooth_prob)}'[:4]\n",
        "  elif color == 'green' and texture == 'bumpy':\n",
        "    return f'{(green_bumpy_prob / bumpy_prob)}'[:4]\n",
        "  elif color == 'green' and texture == 'smooth':\n",
        "    return f'{(green_smooth_prob / smooth_prob)}'[:4]\n",
        "\n",
        "color_prob('red', 'bumpy')\n",
        "\n",
        "\n",
        "\n",
        "\n"
      ],
      "metadata": {
        "colab": {
          "base_uri": "https://localhost:8080/",
          "height": 35
        },
        "id": "6SsGbx1n_0dL",
        "outputId": "6ef01f8c-92d0-404a-f060-52aa1aab321b"
      },
      "execution_count": 15,
      "outputs": [
        {
          "output_type": "execute_result",
          "data": {
            "text/plain": [
              "'0.57'"
            ],
            "application/vnd.google.colaboratory.intrinsic+json": {
              "type": "string"
            }
          },
          "metadata": {},
          "execution_count": 15
        }
      ]
    },
    {
      "cell_type": "code",
      "source": [
        "# 3. Write an if-elif-else chain that determines a person’s stage of life.\n",
        "# Set a value for the variable age, and then:\n",
        "# If the person is less than 2 years old, print a message that the person is a baby.\n",
        "# If the person is at least 2 years old but less than 4, print a message that the person is a toddler.\n",
        "# If the person is at least 4 years old but less than 13, print a message that the person is a kid.\n",
        "# If the person is at least 13 years old but less than 20, print a message that the person is a teenager.\n",
        "# If the person is at least 20 years old but less than 65, print a message that the person is an adult.\n",
        "# If the person is age 65 or older, print a message that the person is an elder.\n",
        "\n",
        "age = 25\n",
        "\n",
        "if age < 2:\n",
        "    print('The person is a baby.')\n",
        "elif 2 <= age < 4:\n",
        "    print('The person is a toddler.')\n",
        "elif 4 <= age < 13:\n",
        "    print('The person is a kid.')\n",
        "elif 13 <= age < 20:\n",
        "    print('The person is a teenager.')\n",
        "elif 20 <= age < 65:\n",
        "    print('The person is an adult.')\n",
        "else:\n",
        "    print('The person is an elder.')\n",
        "\n",
        "\n",
        "\n",
        ""
      ],
      "metadata": {
        "colab": {
          "base_uri": "https://localhost:8080/"
        },
        "id": "MuC8slon_0kf",
        "outputId": "b69c6b3f-e2e4-4b06-fad8-94a80467cc00"
      },
      "execution_count": 16,
      "outputs": [
        {
          "output_type": "stream",
          "name": "stdout",
          "text": [
            "The person is an adult.\n"
          ]
        }
      ]
    },
    {
      "cell_type": "code",
      "source": [],
      "metadata": {
        "id": "7nfIquFM_0rt"
      },
      "execution_count": null,
      "outputs": []
    },
    {
      "cell_type": "code",
      "source": [],
      "metadata": {
        "id": "aGEAJR8z_0yb"
      },
      "execution_count": null,
      "outputs": []
    },
    {
      "cell_type": "code",
      "source": [],
      "metadata": {
        "id": "eRYpciaa_04u"
      },
      "execution_count": null,
      "outputs": []
    },
    {
      "cell_type": "code",
      "source": [],
      "metadata": {
        "id": "_yQOXOcm_09c"
      },
      "execution_count": null,
      "outputs": []
    }
  ]
}