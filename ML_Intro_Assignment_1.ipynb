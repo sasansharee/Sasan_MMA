{
  "nbformat": 4,
  "nbformat_minor": 0,
  "metadata": {
    "colab": {
      "provenance": [],
      "authorship_tag": "ABX9TyNK1SNQT6aqE8Jg2iZLV8iy",
      "include_colab_link": true
    },
    "kernelspec": {
      "name": "python3",
      "display_name": "Python 3"
    },
    "language_info": {
      "name": "python"
    }
  },
  "cells": [
    {
      "cell_type": "markdown",
      "metadata": {
        "id": "view-in-github",
        "colab_type": "text"
      },
      "source": [
        "<a href=\"https://colab.research.google.com/github/sasansharee/Sasan_MMA_Assisgnments/blob/main/ML_Intro_Assignment_1.ipynb\" target=\"_parent\"><img src=\"https://colab.research.google.com/assets/colab-badge.svg\" alt=\"Open In Colab\"/></a>"
      ]
    },
    {
      "cell_type": "code",
      "execution_count": null,
      "metadata": {
        "id": "BRyNnr92cZnz"
      },
      "outputs": [],
      "source": [
        "# Step 1\n",
        "# Load iris dataset from ScikitLearn using load_iris(). Assign the dataset to X and the target values to y.\n",
        "\n",
        "from sklearn.datasets import load_iris\n",
        "iris = load_iris()"
      ]
    },
    {
      "cell_type": "code",
      "source": [
        "X = iris.data\n",
        "y= iris.target"
      ],
      "metadata": {
        "id": "CZ-x6aDNc7_P"
      },
      "execution_count": null,
      "outputs": []
    },
    {
      "cell_type": "code",
      "source": [
        "# Step 2\n",
        "# Print the dataset keys using iris_dataset.keys()\n",
        "\n",
        "iris.keys()"
      ],
      "metadata": {
        "id": "A-EHtlE9c8Di"
      },
      "execution_count": null,
      "outputs": []
    },
    {
      "cell_type": "code",
      "source": [
        "# Step 3\n",
        "# Print the names of the categories in the target file\n",
        "iris.target_names"
      ],
      "metadata": {
        "id": "r_aulqQac8Hp"
      },
      "execution_count": null,
      "outputs": []
    },
    {
      "cell_type": "code",
      "source": [
        "# Step 4\n",
        "# Print the feature names in the Iris dataset\n",
        "iris.feature_names\n"
      ],
      "metadata": {
        "id": "iRnkllC5c8Lo"
      },
      "execution_count": null,
      "outputs": []
    },
    {
      "cell_type": "code",
      "source": [
        "# Step 5\n",
        "# Print the type of the Iris dataset.\n",
        "print(type(iris))"
      ],
      "metadata": {
        "id": "dwZ_ZM1Pc8Og"
      },
      "execution_count": null,
      "outputs": []
    },
    {
      "cell_type": "code",
      "source": [
        "# Step 6\n",
        "# Print the shape of the Iris dataset.\n",
        "print(iris.data.shape)"
      ],
      "metadata": {
        "id": "26R3HvoffWrZ"
      },
      "execution_count": null,
      "outputs": []
    },
    {
      "cell_type": "code",
      "source": [
        "# Step 7\n",
        "# Print the first five rows of the Iris dataset.\n",
        "print(iris.data[0:5])\n",
        "print(X[0:5])"
      ],
      "metadata": {
        "id": "1DBPhFOGfWwI"
      },
      "execution_count": null,
      "outputs": []
    },
    {
      "cell_type": "code",
      "source": [
        "# Step 8\n",
        "# Print the type of the target variable of Iris dataset.\n",
        "print(type(y))\n",
        "print(type(iris.target))\n"
      ],
      "metadata": {
        "id": "4m7oqekFfW0d"
      },
      "execution_count": null,
      "outputs": []
    },
    {
      "cell_type": "code",
      "source": [
        "# Step 9\n",
        "# Print the shape of the target variable of Iris dataset.\n",
        "print(y.shape)\n",
        "print(iris.target.shape)"
      ],
      "metadata": {
        "id": "N0F5UBwffXIG"
      },
      "execution_count": null,
      "outputs": []
    },
    {
      "cell_type": "code",
      "source": [
        "# Step 10\n",
        "# Print the entire target variable values of the Iris dataset.\n",
        "print(y)\n",
        "print(iris.target)"
      ],
      "metadata": {
        "id": "7yZwuxV4fXMl"
      },
      "execution_count": null,
      "outputs": []
    },
    {
      "cell_type": "code",
      "source": [
        "# Step 11\n",
        "# Import NumPy with import numpy as np and use the numpy.unique() function to print the unique values of the target variable of Iris dataset\n",
        "import numpy as np\n",
        "print(np.unique(y, return_counts=True))\n",
        "print(np.unique(iris.target, return_counts=True))"
      ],
      "metadata": {
        "id": "XsmP1LEsfXQI"
      },
      "execution_count": null,
      "outputs": []
    },
    {
      "cell_type": "code",
      "source": [
        "# Step 12\n",
        "# Split dataset into train and test datasets using from sklearn.model_selection import train_test_split\n",
        "from sklearn.model_selection import train_test_split\n",
        "X_train, X_test, y_train, y_test = train_test_split(X, y)"
      ],
      "metadata": {
        "id": "sVtKjibKfXfc"
      },
      "execution_count": null,
      "outputs": []
    },
    {
      "cell_type": "code",
      "source": [
        "# Step 13\n",
        "# Print the shape of train/test datasets and the train/test target variables.\n",
        "print(X_train.shape, X_test.shape, y_train.shape, y_test.shape)"
      ],
      "metadata": {
        "id": "tcuUZpcOhC-s"
      },
      "execution_count": null,
      "outputs": []
    },
    {
      "cell_type": "code",
      "source": [
        "# Step 14\n",
        "# Build your K-neighbors classifier for nearest neighbor of 1 using from sklearn.neighbors import KNeighborsClassifier,\n",
        "# fit the model to your train dataset and make a prediction for teh data point of [5, 1.9, 1, 0.2].\n",
        "# Print your prediction class value as an integer and also the corresponding string label.\n",
        "\n",
        "from sklearn.neighbors import KNeighborsClassifier\n",
        "knn = KNeighborsClassifier(n_neighbors = 1)\n",
        "knn.fit(X_train, y_train)\n",
        "prediction = knn.predict([[5, 1.9, 1, 0.2]])\n",
        "print(prediction)\n",
        "print(f'The prediction class vlaue is : {prediction[0]}')\n",
        "print(f'The corresponding string label is : {iris.target_names[prediction[0]]}')"
      ],
      "metadata": {
        "id": "voFS5glHhDEm"
      },
      "execution_count": null,
      "outputs": []
    },
    {
      "cell_type": "markdown",
      "source": [
        "**B. Loading a Dataset and exploring it**"
      ],
      "metadata": {
        "id": "EP4LO-NlHxOq"
      }
    },
    {
      "cell_type": "code",
      "source": [
        "# Step 1\n",
        "# Import the modules needed to explore the data\n",
        "\n",
        "import pandas as pd\n",
        "import numpy as np\n",
        "import seaborn as sns\n",
        "import matplotlib.pyplot as plt"
      ],
      "metadata": {
        "id": "NV1lESaBhDJb"
      },
      "execution_count": null,
      "outputs": []
    },
    {
      "cell_type": "code",
      "source": [
        "# Step 2\n",
        "# Import auto_mpg.csv dataset using pandas'read_csv function. Print the first three samples from your dataset,\n",
        "# print the index range of the observations, and print the column names of your dataset\n",
        "\n",
        "df = pd.read_csv('/content/auto_mpg.csv')\n",
        "print(df.sample(3))"
      ],
      "metadata": {
        "id": "APc1l5RRhDOZ"
      },
      "execution_count": null,
      "outputs": []
    },
    {
      "cell_type": "code",
      "source": [
        "print(df.index)"
      ],
      "metadata": {
        "id": "jlnNAKlVhDTT"
      },
      "execution_count": null,
      "outputs": []
    },
    {
      "cell_type": "code",
      "source": [
        "print(df.columns)"
      ],
      "metadata": {
        "id": "qOJtYvGYhDZj"
      },
      "execution_count": null,
      "outputs": []
    },
    {
      "cell_type": "code",
      "source": [
        "# Step 3\n",
        "# Assign mpg column as output and name it as y and the rest of the data as the features and assign it to X. Print the shape of X.\n",
        "X = df.drop('mpg', axis = 1)\n",
        "y = df.mpg"
      ],
      "metadata": {
        "id": "CgEWjfVKhDfA"
      },
      "execution_count": null,
      "outputs": []
    },
    {
      "cell_type": "code",
      "source": [
        "print(X.shape, y.shape)"
      ],
      "metadata": {
        "id": "rjEvTS6bhDkR"
      },
      "execution_count": null,
      "outputs": []
    },
    {
      "cell_type": "code",
      "source": [
        "# Step 4\n",
        "# Bonus: Check the dataset if there are any missing values in any of the columns using isnull().any() functions.\n",
        "print(X.isnull().any())"
      ],
      "metadata": {
        "id": "2OQO0Sn-hDpc"
      },
      "execution_count": null,
      "outputs": []
    },
    {
      "cell_type": "code",
      "source": [
        "print(y.isnull().any())"
      ],
      "metadata": {
        "id": "IDDruKdlhDuv"
      },
      "execution_count": null,
      "outputs": []
    },
    {
      "cell_type": "code",
      "source": [
        "# Step 5\n",
        "# Check the data types of each feature. Which columns are continuous and which are categorical?\n",
        "X.dtypes"
      ],
      "metadata": {
        "id": "pjn2UL-KhD0N"
      },
      "execution_count": null,
      "outputs": []
    },
    {
      "cell_type": "code",
      "source": [
        "# Step 6\n",
        "# Look at the unique elements of horsepower\n",
        "\n",
        "np.unique(X.horsepower)"
      ],
      "metadata": {
        "id": "jpcPWPalhD30"
      },
      "execution_count": null,
      "outputs": []
    },
    {
      "cell_type": "code",
      "source": [
        "# Step 7\n",
        "# Let's describe data since everything looks in order.\n",
        "# See the statistical details of the dataset using describe and info methods."
      ],
      "metadata": {
        "id": "qd76Pew4OHvc"
      },
      "execution_count": null,
      "outputs": []
    },
    {
      "cell_type": "code",
      "source": [
        "X.describe()"
      ],
      "metadata": {
        "id": "gFfKpBX_OH1n"
      },
      "execution_count": null,
      "outputs": []
    },
    {
      "cell_type": "code",
      "source": [
        "X.info()"
      ],
      "metadata": {
        "id": "9OVrgZu6PAn9"
      },
      "execution_count": null,
      "outputs": []
    },
    {
      "cell_type": "code",
      "source": [
        "# Step 8\n",
        "# Let's specifically look at the description of the mpg feature"
      ],
      "metadata": {
        "id": "YZuf4BgsPBt-"
      },
      "execution_count": null,
      "outputs": []
    },
    {
      "cell_type": "code",
      "source": [
        "y.describe()"
      ],
      "metadata": {
        "id": "hZVglGbaOH_J"
      },
      "execution_count": null,
      "outputs": []
    },
    {
      "cell_type": "code",
      "source": [
        "y.info()"
      ],
      "metadata": {
        "id": "nkj6DRLdOIDg"
      },
      "execution_count": null,
      "outputs": []
    },
    {
      "cell_type": "code",
      "source": [
        "# Step 9\n",
        "# Visualize the distribution of the features of the data using hist method, use bins=20.\n",
        "fig, axes = plt.subplots(2, 4, figsize = (10, 10))\n",
        "\n",
        "for i, ax in enumerate(axes.ravel()):\n",
        "  ax.hist(X.loc[:, X.columns[i]], bins = 20)\n",
        "  ax.set_title(X.columns[i])\n",
        "  plt.xticks(rotation = 45)\n",
        "\n",
        "plt.show()"
      ],
      "metadata": {
        "id": "MIbHME_5OIHy"
      },
      "execution_count": null,
      "outputs": []
    },
    {
      "cell_type": "code",
      "source": [
        "# Step 10\n",
        "# BONUS: Visualize the relationships between these data points.\n",
        "# Create a function to scale your dataset by using the formula 𝑏=(𝑥−𝑚𝑖𝑛) / (𝑚𝑎𝑥−𝑚𝑖𝑛)\n",
        "# Using this function, scale displacement, horsepower, acceleration, weight, andmpg`.\n",
        "# Create a boxplot of mpg for different origin values before and after scaling.\n",
        "\n"
      ],
      "metadata": {
        "id": "StuCtswZOILx"
      },
      "execution_count": null,
      "outputs": []
    },
    {
      "cell_type": "code",
      "source": [
        "def my_scale(x):\n",
        "  return (x - np.min(x)) / (np.max(x) - np.min(x))"
      ],
      "metadata": {
        "id": "3SM3eR85VY4Q"
      },
      "execution_count": null,
      "outputs": []
    },
    {
      "cell_type": "code",
      "source": [
        "X['displacement_sc'] = my_scale(X['displacement'])\n",
        "X['horsepower_sc'] = my_scale(X['horsepower'])\n",
        "X['acceleration_sc'] = my_scale(X['acceleration'])\n",
        "X['weight_sc'] = my_scale(X['weight'])\n",
        "y_sc = my_scale(y)"
      ],
      "metadata": {
        "id": "E9yEdlqaOIQU"
      },
      "execution_count": null,
      "outputs": []
    },
    {
      "cell_type": "code",
      "source": [
        "X['mpg'] = y\n",
        "X['mpg_sc'] = y_sc\n",
        "fig, axes = plt.subplots(1 , 2, figsize = (10, 5))\n",
        "X.boxplot(column = 'mpg', by = 'origin', ax = axes[0])\n",
        "X.boxplot(column = 'mpg_sc', by = 'origin', ax = axes[1])\n",
        "axes[0].set_title('MPG by Origin Before Scaling')\n",
        "axes[0].set_xlabel('Origin')\n",
        "axes[0].set_ylabel('MPG')\n",
        "axes[1].set_title('MPG by Origin After Scaling')\n",
        "axes[1].set_xlabel('Origin')\n",
        "axes[1].set_ylabel('MPG')\n",
        "plt.show()"
      ],
      "metadata": {
        "colab": {
          "base_uri": "https://localhost:8080/",
          "height": 495
        },
        "id": "olvPLe_LOIS9",
        "outputId": "21182bb3-526b-4778-c025-48edc20e32cd"
      },
      "execution_count": null,
      "outputs": [
        {
          "output_type": "display_data",
          "data": {
            "text/plain": [
              "<Figure size 1000x500 with 2 Axes>"
            ],
            "image/png": "[encoded data removed]"
          },
          "metadata": {}
        }
      ]
    },
    {
      "cell_type": "code",
      "source": [],
      "metadata": {
        "id": "9Y6sLmiBeAEO"
      },
      "execution_count": null,
      "outputs": []
    }
  ]
}