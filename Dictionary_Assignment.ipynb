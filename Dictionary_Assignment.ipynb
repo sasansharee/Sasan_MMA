{
  "nbformat": 4,
  "nbformat_minor": 0,
  "metadata": {
    "colab": {
      "provenance": [],
      "authorship_tag": "ABX9TyPYddnxo2ucMKQif35CCG6P",
      "include_colab_link": true
    },
    "kernelspec": {
      "name": "python3",
      "display_name": "Python 3"
    },
    "language_info": {
      "name": "python"
    }
  },
  "cells": [
    {
      "cell_type": "markdown",
      "metadata": {
        "id": "view-in-github",
        "colab_type": "text"
      },
      "source": [
        "<a href=\"https://colab.research.google.com/github/sasansharee/Sasan_MMA/blob/main/Dictionary_Assignment.ipynb\" target=\"_parent\"><img src=\"https://colab.research.google.com/assets/colab-badge.svg\" alt=\"Open In Colab\"/></a>"
      ]
    },
    {
      "cell_type": "code",
      "execution_count": 6,
      "metadata": {
        "colab": {
          "base_uri": "https://localhost:8080/"
        },
        "id": "9pPkJy3PSUlx",
        "outputId": "0fb97761-41e7-4b22-e658-c90d3c939672"
      },
      "outputs": [
        {
          "output_type": "stream",
          "name": "stdout",
          "text": [
            "{1: 'Monday', 2: 'Tuesday', 3: 'Wednesday', 4: 'Thursday', 5: 'Friday', 6: 'Saturday', 7: 'Sunday'}\n",
            "PLease enter two differentb numbers between 1-7: 56\n",
            "56\n",
            "{1: 'Monday', 2: 'Tuesday', 3: 'Wednesday', 4: 'Thursday', 7: 'Sunday'}\n"
          ]
        }
      ],
      "source": [
        "# 1- Create a dictionary with 7 days. Ask the user to choose 2 different days by listing the (e.g. \"12\" for Monday and Tuesday).\n",
        "# Delete the user-selected days from the dictionary and print the remaining 5 days on the screen.\n",
        "\n",
        "week = {1:'Monday', 2:'Tuesday', 3:'Wednesday', 4:'Thursday', 5:'Friday', 6:'Saturday', 7:'Sunday'}\n",
        "print(week)\n",
        "\n",
        "numbers = input('PLease enter two differentb numbers between 1-7: ')\n",
        "print(numbers)\n",
        "\n",
        "first_key = numbers[0]\n",
        "second_key = numbers[1]\n",
        "\n",
        "week.pop(int(first_key))\n",
        "week.pop(int(second_key))\n",
        "\n",
        "print(week)"
      ]
    },
    {
      "cell_type": "code",
      "source": [
        "# 2- Create a dictionary with the following personnel. Use names as keys.\n",
        "# (Michael (age: 20)\n",
        "# (Linda (age: 30)\n",
        "\n",
        "name_dict = {'Michael':20, 'Linda':30}\n",
        "print(name_dict)"
      ],
      "metadata": {
        "colab": {
          "base_uri": "https://localhost:8080/"
        },
        "id": "etphIZGDScuc",
        "outputId": "d79ee38c-294b-44c3-c2e0-ab2ffd8adc79"
      },
      "execution_count": 7,
      "outputs": [
        {
          "output_type": "stream",
          "name": "stdout",
          "text": [
            "{'Michael': 20, 'Linda': 30}\n"
          ]
        }
      ]
    },
    {
      "cell_type": "code",
      "source": [
        "# 3- Add child information to Michael and Linda.\n",
        "# Michael has two children (Karen (age : 12, female) and Greg (age : 7, male) and Linda has one child (Susan (age: 6, female))\n",
        "\n",
        "name_dict = {'Michael': {'age':20, 'children':['Karen', 'Greg'], 'children_age':[12, 7], 'children_gender':['Female', 'Male']}, 'Linda': {'age': 30, 'children':['Susan'], 'children_age':[6], 'children_gender':['Female']}}\n",
        "print(name_dict)"
      ],
      "metadata": {
        "colab": {
          "base_uri": "https://localhost:8080/"
        },
        "id": "5b9LvGI7Sc0q",
        "outputId": "13add4b3-0189-4a0e-b850-f4f6e039b117"
      },
      "execution_count": 8,
      "outputs": [
        {
          "output_type": "stream",
          "name": "stdout",
          "text": [
            "{'Michael': {'age': 20, 'children': ['Karen', 'Greg'], 'children_age': [12, 7], 'children_gender': ['Female', 'Male']}, 'Linda': {'age': 30, 'children': ['Susan'], 'children_age': [6], 'children_gender': ['Female']}}\n"
          ]
        }
      ]
    },
    {
      "cell_type": "code",
      "source": [
        "# 4- Print the names of Michael's children in a list.\n",
        "\n",
        "name_dict = {'Michael': {'age':20, 'children':['Karen', 'Greg'], 'children_age':[12, 7], 'children_gender':['Female', 'Male']}, 'Linda': {'age': 30, 'children':['Susan'], 'children_age':[6], 'children_gender':['Female']}}\n",
        "\n",
        "print(name_dict['Michael']['children'])"
      ],
      "metadata": {
        "colab": {
          "base_uri": "https://localhost:8080/"
        },
        "id": "dJFBf5Q1Sc6x",
        "outputId": "e3bebbf1-c94f-4319-d7c6-5e03acf501ae"
      },
      "execution_count": 10,
      "outputs": [
        {
          "output_type": "stream",
          "name": "stdout",
          "text": [
            "['Karen', 'Greg']\n"
          ]
        }
      ]
    },
    {
      "cell_type": "code",
      "source": [],
      "metadata": {
        "id": "o7_hDyJXSdBA"
      },
      "execution_count": null,
      "outputs": []
    },
    {
      "cell_type": "code",
      "source": [],
      "metadata": {
        "id": "M9DM-prTSdG7"
      },
      "execution_count": null,
      "outputs": []
    },
    {
      "cell_type": "code",
      "source": [],
      "metadata": {
        "id": "6dVIy8S-SdMw"
      },
      "execution_count": null,
      "outputs": []
    },
    {
      "cell_type": "code",
      "source": [],
      "metadata": {
        "id": "d3And8lcSdSi"
      },
      "execution_count": null,
      "outputs": []
    },
    {
      "cell_type": "code",
      "source": [],
      "metadata": {
        "id": "SrNqAwdZSdXt"
      },
      "execution_count": null,
      "outputs": []
    },
    {
      "cell_type": "code",
      "source": [],
      "metadata": {
        "id": "MY5mu-YrSa6I"
      },
      "execution_count": null,
      "outputs": []
    }
  ]
}